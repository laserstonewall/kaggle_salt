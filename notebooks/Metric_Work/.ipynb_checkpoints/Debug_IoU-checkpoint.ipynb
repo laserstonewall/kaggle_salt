{
 "cells": [
  {
   "cell_type": "code",
   "execution_count": 1,
   "metadata": {},
   "outputs": [],
   "source": [
    "import numpy as np\n",
    "import pandas as pd"
   ]
  },
  {
   "cell_type": "code",
   "execution_count": 2,
   "metadata": {},
   "outputs": [],
   "source": [
    "def IoU(x,y):\n",
    "    '''\n",
    "    version of IoU that uses np.bincount to get the value counts\n",
    "    \n",
    "    x and y are both numpy N x M masks\n",
    "    \n",
    "    x = proposed mask\n",
    "    y = ground truth mask\n",
    "    \n",
    "    0 for a pixel indicates the mask is blocked, 1 indicates the mask is not blocked.\n",
    "    In plain English, everywhere that is 1 we can see the cell, everywhere that is 0 we cannot.\n",
    "    \n",
    "    We want to calculate the IoU statistic, which is intersection(x,y)/union(x,y) at values where x or y is 1 \n",
    "    \n",
    "    By subtracting the proposed mask from 2 x the ground truth mask (i.e. blocked is 0, not blocked is 2),\n",
    "    then adding 1, we get unique values for each type of overlap situation, plus all values are positive, which\n",
    "    is required to use np.bincount:\n",
    "    \n",
    "INDX  0  1  2  3  4  5  6  7  8  9 10 11\n",
    "\n",
    "GT    0  0  0  2  2  2  2  2  0  0  0  0\n",
    "MSK - 0  0  1  1  1  1  0  1  1  0  0  0  \n",
    "      ----------------------------------\n",
    "      0  0 -1  1  1  1  2  1 -1  0  0  0\n",
    "    + 1  1  1  1  1  1  1  1  1  1  1  1\n",
    "      ----------------------------------\n",
    "      1  1  0  2  2  2  3  2  0  1  1  1\n",
    "      \n",
    "    0: the proposed mask had a pixel, ground truth did not (include in union)   \n",
    "    1: neither mask had a pixel (don't include)\n",
    "    2: the proposed mask had a pixed, the ground truth had a pixel (include in intersection and union)\n",
    "    3: the proposed mask did not have a pixel, the ground truth did (include in union)\n",
    "    \n",
    "    np.bincount always has length of np.amax(x) + 1, so we just need to do length checking\n",
    "    '''\n",
    "    x = x\n",
    "    y = y * 2\n",
    "    \n",
    "    diff = np.bincount((y - x + 1).flatten())\n",
    "    diff_len = len(diff)\n",
    "    \n",
    "    ### Cacluate the intersection first\n",
    "    intersection = 0\n",
    "    if (diff_len >= 3):\n",
    "        intersection = diff[2]\n",
    "    \n",
    "    ### Now calculate the union\n",
    "    union = intersection\n",
    "    if diff_len == 4:\n",
    "        union += diff[3]\n",
    "    union += diff[0]\n",
    "        \n",
    "    if union==0:\n",
    "        iou = 0 ### default value, we could potentially return blank masks, although GT should never be empty\n",
    "    else:\n",
    "        iou = float(intersection) / union\n",
    "    \n",
    "#     ### This is the code without error checking, basically doesn't speed it up at all\n",
    "#     intersection = diff[2]\n",
    "#     union = diff[0] + diff[2] + diff[3]\n",
    "#     iou = float(intersection) / union\n",
    "\n",
    "    return iou\n",
    "\n",
    "def calc_IoU_matrix(gt_masks, pred_masks):\n",
    "    '''\n",
    "    Calculates the IoU matrix without thresholding. For increased speed, we could play some tricks based\n",
    "    on the knowledge that 0.5 is the minimum threshold, but for now leaving out.\n",
    "    \n",
    "    Shape of gt_masks and pred_masks should be (num_masks, mask_x, mask_y)\n",
    "    \n",
    "    Returns a matrix with rows corresponding to ground truth masks, and columns predicted masks.\n",
    "    '''\n",
    "    ioumat = np.zeros((len(gt_masks),len(pred_masks)))\n",
    "    for i in range(len(gt_masks)):\n",
    "        for j in range(len(pred_masks)):\n",
    "            ioumat[i,j] = IoU(pred_masks[j],gt_masks[i])\n",
    "            \n",
    "    return ioumat\n",
    "\n",
    "def calc_precision(ioumat):\n",
    "    '''\n",
    "    Calculates the precision for a matrix that has already been thresholded.\n",
    "    \n",
    "    Assumes the minimum threshold is 0.5, i.e. all values <= 0.5 are eliminated. This helps\n",
    "    us make some simplifying assumptions.\n",
    "    '''\n",
    "    ### First sum across the columns for each ground truth mask\n",
    "    matsum = ioumat.sum(axis=1)\n",
    "    \n",
    "    true_pos = len(matsum[matsum > 0.0])\n",
    "    false_neg = len(matsum[matsum == 0.0])\n",
    "    false_pos = ioumat.shape[1] - true_pos\n",
    "    \n",
    "    precision = float(true_pos) / (true_pos + false_neg + false_pos)\n",
    "    \n",
    "    return precision#, true_pos, false_neg, false_pos\n",
    "\n",
    "def calc_precisions(gt_masks, pred_masks, thresholds=[0.5, 0.55, 0.6, 0.65, 0.7, 0.75, 0.8, 0.85, 0.9, 0.95]):\n",
    "    ### First calculate the IoU matrix\n",
    "    ioumat = calc_IoU_matrix(gt_masks, pred_masks)\n",
    "    \n",
    "    precisions = []\n",
    "    for threshold in thresholds:\n",
    "        ioumat[ioumat <= threshold] = 0.0\n",
    "        \n",
    "        precisions.append(calc_precision(ioumat))\n",
    "        \n",
    "    return precisions\n",
    "\n",
    "def calc_average_precision(gt_masks, pred_masks, thresholds=[0.5, 0.55, 0.6, 0.65, 0.7, 0.75, 0.8, 0.85, 0.9, 0.95]):\n",
    "    precisions = np.array(calc_precisions(gt_masks, pred_masks, thresholds))\n",
    "    return precisions.mean()"
   ]
  },
  {
   "cell_type": "code",
   "execution_count": 104,
   "metadata": {},
   "outputs": [],
   "source": [
    "gt_mask = np.zeros((10,10), dtype=np.int32)\n",
    "pred_mask = np.zeros((10,10), dtype=np.int32)"
   ]
  },
  {
   "cell_type": "code",
   "execution_count": 22,
   "metadata": {},
   "outputs": [],
   "source": [
    "gt_mask[:,:9]=1\n",
    "pred_mask[:,1:9] = 1"
   ]
  },
  {
   "cell_type": "code",
   "execution_count": 23,
   "metadata": {},
   "outputs": [
    {
     "data": {
      "text/plain": [
       "(90, 80)"
      ]
     },
     "execution_count": 23,
     "metadata": {},
     "output_type": "execute_result"
    }
   ],
   "source": [
    "gt_mask.sum(), pred_mask.sum()"
   ]
  },
  {
   "cell_type": "code",
   "execution_count": 24,
   "metadata": {},
   "outputs": [
    {
     "data": {
      "text/plain": [
       "0.8888888888888888"
      ]
     },
     "execution_count": 24,
     "metadata": {},
     "output_type": "execute_result"
    }
   ],
   "source": [
    "IoU(pred_mask, gt_mask)"
   ]
  },
  {
   "cell_type": "code",
   "execution_count": 26,
   "metadata": {},
   "outputs": [
    {
     "data": {
      "text/plain": [
       "0.8888888888888888"
      ]
     },
     "execution_count": 26,
     "metadata": {},
     "output_type": "execute_result"
    }
   ],
   "source": [
    "80 / 90"
   ]
  },
  {
   "cell_type": "code",
   "execution_count": 28,
   "metadata": {},
   "outputs": [],
   "source": [
    "comb = gt_mask + pred_mask"
   ]
  },
  {
   "cell_type": "code",
   "execution_count": 29,
   "metadata": {},
   "outputs": [
    {
     "data": {
      "text/plain": [
       "array([[1, 2, 2, 2, 2, 2, 2, 2, 2, 0],\n",
       "       [1, 2, 2, 2, 2, 2, 2, 2, 2, 0],\n",
       "       [1, 2, 2, 2, 2, 2, 2, 2, 2, 0],\n",
       "       [1, 2, 2, 2, 2, 2, 2, 2, 2, 0],\n",
       "       [1, 2, 2, 2, 2, 2, 2, 2, 2, 0],\n",
       "       [1, 2, 2, 2, 2, 2, 2, 2, 2, 0],\n",
       "       [1, 2, 2, 2, 2, 2, 2, 2, 2, 0],\n",
       "       [1, 2, 2, 2, 2, 2, 2, 2, 2, 0],\n",
       "       [1, 2, 2, 2, 2, 2, 2, 2, 2, 0],\n",
       "       [1, 2, 2, 2, 2, 2, 2, 2, 2, 0]], dtype=int32)"
      ]
     },
     "execution_count": 29,
     "metadata": {},
     "output_type": "execute_result"
    }
   ],
   "source": [
    "comb"
   ]
  },
  {
   "cell_type": "code",
   "execution_count": 33,
   "metadata": {},
   "outputs": [],
   "source": [
    "intersection = (comb==2).astype('int').sum()"
   ]
  },
  {
   "cell_type": "code",
   "execution_count": 36,
   "metadata": {},
   "outputs": [],
   "source": [
    "union = (comb > 0).astype('int').sum()"
   ]
  },
  {
   "cell_type": "code",
   "execution_count": 39,
   "metadata": {},
   "outputs": [
    {
     "data": {
      "text/plain": [
       "0.8888888888888888"
      ]
     },
     "execution_count": 39,
     "metadata": {},
     "output_type": "execute_result"
    }
   ],
   "source": [
    "intersection / float(union)"
   ]
  },
  {
   "cell_type": "code",
   "execution_count": 108,
   "metadata": {},
   "outputs": [],
   "source": [
    "def IoU2(pred,gt):\n",
    "    comb = pred + gt\n",
    "    intersection = (comb==2).astype('int').sum()\n",
    "    if intersection==0:\n",
    "        return 0\n",
    "    union = (comb > 0).astype('int').sum()\n",
    "    iou = intersection / float(union)\n",
    "    return iou"
   ]
  },
  {
   "cell_type": "code",
   "execution_count": 109,
   "metadata": {},
   "outputs": [
    {
     "data": {
      "text/plain": [
       "0"
      ]
     },
     "execution_count": 109,
     "metadata": {},
     "output_type": "execute_result"
    }
   ],
   "source": [
    "IoU(pred_mask,gt_mask)"
   ]
  },
  {
   "cell_type": "code",
   "execution_count": 110,
   "metadata": {},
   "outputs": [
    {
     "data": {
      "text/plain": [
       "0"
      ]
     },
     "execution_count": 110,
     "metadata": {},
     "output_type": "execute_result"
    }
   ],
   "source": [
    "IoU2(pred_mask, gt_mask)"
   ]
  },
  {
   "cell_type": "code",
   "execution_count": 94,
   "metadata": {},
   "outputs": [
    {
     "name": "stdout",
     "output_type": "stream",
     "text": [
      "7.11 µs ± 159 ns per loop (mean ± std. dev. of 7 runs, 100000 loops each)\n"
     ]
    }
   ],
   "source": [
    "%timeit IoU(pred_mask,gt_mask)"
   ]
  },
  {
   "cell_type": "code",
   "execution_count": 95,
   "metadata": {},
   "outputs": [
    {
     "name": "stdout",
     "output_type": "stream",
     "text": [
      "12.5 µs ± 265 ns per loop (mean ± std. dev. of 7 runs, 100000 loops each)\n"
     ]
    }
   ],
   "source": [
    "%timeit IoU2(pred_mask,gt_mask)"
   ]
  },
  {
   "cell_type": "code",
   "execution_count": 131,
   "metadata": {},
   "outputs": [
    {
     "name": "stdout",
     "output_type": "stream",
     "text": [
      "0.31645569620253167\n",
      "0.31645569620253167\n",
      "0.31645569620253167\n"
     ]
    }
   ],
   "source": [
    "gt = np.random.choice([0,1], size=(10,10))\n",
    "pred = np.random.choice([0,1], size=(10,10))\n",
    "print(IoU(pred,gt))\n",
    "print(IoU2(pred,gt))\n",
    "print(iou_neptune(pred,gt))"
   ]
  },
  {
   "cell_type": "code",
   "execution_count": 111,
   "metadata": {},
   "outputs": [],
   "source": [
    "def iou_neptune(pred, gt):\n",
    "    gt[gt > 0] = 1.\n",
    "    pred[pred > 0] = 1.\n",
    "    intersection = gt * pred\n",
    "    union = gt + pred\n",
    "    union[union > 0] = 1.\n",
    "    intersection = np.sum(intersection)\n",
    "    union = np.sum(union)\n",
    "    if union == 0:\n",
    "        union = 1e-09\n",
    "    return intersection / union"
   ]
  },
  {
   "cell_type": "code",
   "execution_count": 112,
   "metadata": {},
   "outputs": [
    {
     "name": "stdout",
     "output_type": "stream",
     "text": [
      "14.7 µs ± 311 ns per loop (mean ± std. dev. of 7 runs, 100000 loops each)\n"
     ]
    }
   ],
   "source": [
    "%timeit iou_neptune(pred_mask,gt_mask)"
   ]
  },
  {
   "cell_type": "code",
   "execution_count": null,
   "metadata": {},
   "outputs": [],
   "source": []
  }
 ],
 "metadata": {
  "kernelspec": {
   "display_name": "Python 3",
   "language": "python",
   "name": "python3"
  },
  "language_info": {
   "codemirror_mode": {
    "name": "ipython",
    "version": 3
   },
   "file_extension": ".py",
   "mimetype": "text/x-python",
   "name": "python",
   "nbconvert_exporter": "python",
   "pygments_lexer": "ipython3",
   "version": "3.7.7"
  }
 },
 "nbformat": 4,
 "nbformat_minor": 2
}
